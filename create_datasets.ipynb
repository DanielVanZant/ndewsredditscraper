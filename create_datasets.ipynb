{
 "metadata": {
  "language_info": {
   "codemirror_mode": {
    "name": "ipython",
    "version": 3
   },
   "file_extension": ".py",
   "mimetype": "text/x-python",
   "name": "python",
   "nbconvert_exporter": "python",
   "pygments_lexer": "ipython3",
   "version": "3.6.12-final"
  },
  "orig_nbformat": 2,
  "kernelspec": {
   "name": "python361264bitndewsscrapervenvvirtualenv674896a8d7dd4a06af817bffe22c4a98",
   "display_name": "Python 3.6.12 64-bit ('ndewsscrapervenv': virtualenv)"
  }
 },
 "nbformat": 4,
 "nbformat_minor": 2,
 "cells": [
  {
   "cell_type": "code",
   "execution_count": 113,
   "metadata": {},
   "outputs": [],
   "source": [
    "import datetime as dt\n",
    "import json\n",
    "import os\n",
    "import sys\n",
    "import re\n",
    "import random\n",
    "import csv"
   ]
  },
  {
   "cell_type": "code",
   "execution_count": 114,
   "metadata": {},
   "outputs": [],
   "source": [
    "def clean_comment(comment):\n",
    "    return re.sub('\\s+', ' ', comment)\n",
    "\n",
    "def sample_valid(sample):\n",
    "    return not sample[\"text\"] == \"[removed]\""
   ]
  },
  {
   "cell_type": "code",
   "execution_count": 115,
   "metadata": {},
   "outputs": [],
   "source": [
    "downloads_dir = \"downloads/\"\n",
    "\n",
    "kw_files = os.listdir(downloads_dir)"
   ]
  },
  {
   "cell_type": "code",
   "execution_count": 116,
   "metadata": {},
   "outputs": [],
   "source": [
    "data = {}\n",
    "for fname in kw_files:\n",
    "    with open(os.path.join(downloads_dir, fname), \"r\") as f:\n",
    "        keyword = fname.replace(\".json\", \"\")\n",
    "        \n",
    "        data[keyword] = json.load(f)"
   ]
  },
  {
   "cell_type": "code",
   "execution_count": 117,
   "metadata": {},
   "outputs": [
    {
     "output_type": "stream",
     "name": "stdout",
     "text": [
      "hydrocodone 9390\nvicodin 3950\nisotonitazene 506\nheroin 84379\noxycodone 15299\ncodeine 21046\nbrorphine 487\npurple heroin 175\n238 675\ncarfentanil 950\npercocet 5088\nfentanyl 28187\nmorphine 22763\neutylone 408\noxymorphone 2600\n"
     ]
    }
   ],
   "source": [
    "for key, comments in data.items():\n",
    "    print(key, len(comments))"
   ]
  },
  {
   "cell_type": "code",
   "execution_count": 118,
   "metadata": {},
   "outputs": [],
   "source": [
    "def make_sample(comment, key, label):\n",
    "    return {\n",
    "        \"text\": clean_comment(comment['body']),\n",
    "        \"subreddit_label\": comment['subreddit'],\n",
    "        \"keyword_label\": key,\n",
    "        \"label\": label\n",
    "    }"
   ]
  },
  {
   "cell_type": "code",
   "execution_count": 119,
   "metadata": {},
   "outputs": [],
   "source": [
    "datasets = {\n",
    "    \"train\": {\n",
    "        \"keys\": [\"morphine\", \"fentanyl\", \"codeine\", \"heroin\", \"hydrocodone\", \"oxycodone\", \"oxymorphone\"],\n",
    "        \"samples\": []\n",
    "    },\n",
    "    \"test\": {\n",
    "        \"keys\": [\"percocet\", \"vicodin\", \"eutylone\", \"carfentanil\", \"brorphine\", \"isotonitazene\"],\n",
    "        \"samples\": []\n",
    "    }\n",
    "}\n",
    "\n",
    "for name, dataset in datasets.items():\n",
    "    for key in dataset[\"keys\"]:\n",
    "        for comment in data[key]:\n",
    "            sample = make_sample(comment, key, label=1)\n",
    "            if not sample_valid(sample):\n",
    "                continue\n",
    "            dataset[\"samples\"].append(sample)"
   ]
  },
  {
   "cell_type": "code",
   "execution_count": null,
   "metadata": {},
   "outputs": [],
   "source": []
  },
  {
   "cell_type": "code",
   "execution_count": 120,
   "metadata": {},
   "outputs": [
    {
     "output_type": "stream",
     "name": "stdout",
     "text": [
      "askreddit_1603615242371.json\naskreddit_1603632069744.json\n"
     ]
    }
   ],
   "source": [
    "scrapes_dir = \"scrapes/\"\n",
    "\n",
    "for scrape in os.listdir(scrapes_dir):\n",
    "    print(scrape)"
   ]
  },
  {
   "cell_type": "code",
   "execution_count": 121,
   "metadata": {},
   "outputs": [],
   "source": [
    "scrape_files = [\"askreddit_1603632069744.json\"]"
   ]
  },
  {
   "cell_type": "code",
   "execution_count": 122,
   "metadata": {},
   "outputs": [],
   "source": [
    "scrape_samples = []\n",
    "for scrape_file in scrape_files:\n",
    "    path = os.path.join(scrapes_dir, scrape_file)\n",
    "    with open(path, \"r\") as f:\n",
    "        for comment in json.load(f):\n",
    "            sample = make_sample(comment, \"\", label=0)\n",
    "            if not sample_valid(sample):\n",
    "                continue\n",
    "            scrape_samples.append(sample)"
   ]
  },
  {
   "cell_type": "code",
   "execution_count": null,
   "metadata": {},
   "outputs": [],
   "source": []
  },
  {
   "cell_type": "code",
   "execution_count": 123,
   "metadata": {},
   "outputs": [
    {
     "output_type": "stream",
     "name": "stdout",
     "text": [
      "[181281, 11144] [186242, 11450]\n"
     ]
    }
   ],
   "source": [
    "dataset_lengths = [len(datasets[name][\"samples\"]) for name in datasets]\n",
    "dataset_count = sum(dataset_lengths)\n",
    "dataset_ratios = [length / dataset_count for length in dataset_lengths]\n",
    "scrape_lengths = list(map(lambda x: int(x * len(scrape_samples)), dataset_ratios))\n",
    "scrape_lengths[-1] = len(scrape_samples) - sum(scrape_lengths[:-1])\n",
    "\n",
    "print(dataset_lengths, scrape_lengths)"
   ]
  },
  {
   "cell_type": "code",
   "execution_count": 124,
   "metadata": {},
   "outputs": [],
   "source": [
    "random.shuffle(scrape_samples)\n",
    "sample_idx = 0\n",
    "for length, (name, dataset) in zip(scrape_lengths, datasets.items()):\n",
    "    dataset[\"samples\"].extend(scrape_samples[sample_idx:sample_idx+length])"
   ]
  },
  {
   "cell_type": "code",
   "execution_count": 125,
   "metadata": {},
   "outputs": [],
   "source": [
    "for name, dataset in datasets.items():\n",
    "    random.shuffle(dataset[\"samples\"])"
   ]
  },
  {
   "cell_type": "code",
   "execution_count": null,
   "metadata": {},
   "outputs": [],
   "source": []
  },
  {
   "cell_type": "code",
   "execution_count": 126,
   "metadata": {},
   "outputs": [],
   "source": [
    "out_folder = \"datasets/\"\n",
    "dataset_name = \"classify-drug-discussion\"\n",
    "\n",
    "for name, dataset in datasets.items():\n",
    "    out_file = os.path.join(out_folder, dataset_name + \"_\" + name + \".tsv\")\n",
    "    with open(out_file, \"w\") as f:\n",
    "        writer = csv.writer(f, delimiter='\\t')\n",
    "\n",
    "        header = dataset[\"samples\"][0].keys()\n",
    "        writer.writerow(header)\n",
    "\n",
    "        for sample in dataset[\"samples\"]:\n",
    "            writer.writerow(sample.values())"
   ]
  },
  {
   "cell_type": "code",
   "execution_count": null,
   "metadata": {},
   "outputs": [],
   "source": []
  }
 ]
}